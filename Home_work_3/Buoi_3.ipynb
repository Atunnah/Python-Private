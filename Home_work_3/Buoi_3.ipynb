{
  "nbformat": 4,
  "nbformat_minor": 0,
  "metadata": {
    "colab": {
      "provenance": []
    },
    "kernelspec": {
      "name": "python3",
      "display_name": "Python 3"
    },
    "language_info": {
      "name": "python"
    }
  },
  "cells": [
    {
      "cell_type": "markdown",
      "source": [
        "Bài 1:"
      ],
      "metadata": {
        "id": "5kTe4CuhTBp0"
      }
    },
    {
      "cell_type": "code",
      "source": [
        "import math\n",
        "\n",
        "def distance(point1, point2):\n",
        "    return math.sqrt((point1[0] - point2[0])**2 + (point1[1] - point2[1])**2)\n",
        "\n",
        "def is_rectangle(point1, point2, point3):\n",
        "    side1 = distance(point1, point2)\n",
        "    side2 = distance(point2, point3)\n",
        "    side3 = distance(point1, point3)\n",
        "    return (side1 + side2 > side3) and (side1 + side3 > side2) and (side2 + side3 > side1)\n",
        "\n",
        "x1, y1 = map(float, input(\"Nhap toa do diem 1: \").split())\n",
        "x2, y2 = map(float, input(\"Nhap toa do diem 2: \").split())\n",
        "x3, y3 = map(float, input(\"Nhap toa do diem 3: \").split())\n",
        "\n",
        "point1 = (x1, y1)\n",
        "point2 = (x2, y2)\n",
        "point3 = (x3, y3)\n",
        "\n",
        "if is_rectangle(point1, point2, point3):\n",
        "    print(\"\\nTAM GIAC\")\n",
        "else:\n",
        "    print(\"\\nKHONG PHAI TAM GIAC\")\n"
      ],
      "metadata": {
        "colab": {
          "base_uri": "https://localhost:8080/"
        },
        "id": "b6NCaGlqTGxo",
        "outputId": "4a70670a-e0c8-4c8f-bcdd-7f56fea575d1"
      },
      "execution_count": 1,
      "outputs": [
        {
          "output_type": "stream",
          "name": "stdout",
          "text": [
            "Nhap toa do diem 1: 1 2\n",
            "Nhap toa do diem 2: 3 4\n",
            "Nhap toa do diem 3: 5 6\n",
            "\n",
            "KHONG PHAI TAM GIAC\n"
          ]
        }
      ]
    },
    {
      "cell_type": "markdown",
      "source": [
        "Bài 2:"
      ],
      "metadata": {
        "id": "34tgcEcvTS1w"
      }
    },
    {
      "cell_type": "code",
      "source": [
        "def reserve(a, m):\n",
        "    reserved_part = 0\n",
        "    for i in range(m):\n",
        "        reserved_part = reserved_part * 10 + a % 10\n",
        "        a //= 10\n",
        "    return reserved_part, a\n",
        "\n",
        "while True:\n",
        "    n = int(input(\"Nhap n: \"))\n",
        "    if 5 <= n <= 100:\n",
        "        break\n",
        "    else:\n",
        "        print(\"Yeu cau nhap lai.\\n\")\n",
        "while True:\n",
        "    m = int(input(\"Nhap m: \"))\n",
        "    if m >= 3:\n",
        "        break\n",
        "    else:\n",
        "        print(\"Yeu cau nhap lai.\\n\")\n",
        "for i in range(n):\n",
        "    a = int(input(\"Nhap so nguyen duong: \"))\n",
        "    if a < 1000003:\n",
        "        print(\"So vua nhap khong du 6 chu so tro len\")\n",
        "    else:\n",
        "        reserved_part, remaining_part = reserve(a, m)\n",
        "        #result = int(str(remaining_part) + str(reserved_part))\n",
        "        print(\"So da dao: \", remaining_part, reserved_part, sep=\"\")\n"
      ],
      "metadata": {
        "colab": {
          "base_uri": "https://localhost:8080/"
        },
        "id": "lQSHX__YTU2M",
        "outputId": "fe820b8c-eb7d-4de4-d1c2-fa2ffab20422"
      },
      "execution_count": 3,
      "outputs": [
        {
          "output_type": "stream",
          "name": "stdout",
          "text": [
            "Nhap n: 5\n",
            "Nhap m: 3\n",
            "Nhap so nguyen duong: 123456\n",
            "So da dao: 123654\n",
            "Nhap so nguyen duong: 345678\n",
            "So da dao: 345876\n",
            "Nhap so nguyen duong: 135689\n",
            "So da dao: 135986\n",
            "Nhap so nguyen duong: 12345\n",
            "So vua nhap khong du 6 chu so tro len\n",
            "Nhap so nguyen duong: 456785\n",
            "So da dao: 456587\n"
          ]
        }
      ]
    },
    {
      "cell_type": "markdown",
      "source": [
        "Bài 3:"
      ],
      "metadata": {
        "id": "Q7cRJuOTT0nk"
      }
    },
    {
      "cell_type": "code",
      "source": [
        "k = int(input(\"Nhap so luong hoc sinh: \"))\n",
        "for i in range(k):\n",
        "    name = input(\"Nhap ten: \")\n",
        "    while True:\n",
        "        tx1 = int(input(\"Nhap diem thuong xuyen 1: \"))\n",
        "        if 0 <= tx1 <= 100:\n",
        "            break\n",
        "        else:\n",
        "            print(\"Yeu cau nhap lai.\\n\")\n",
        "    while True:\n",
        "        tx2 = int(input(\"Nhap diem thuong xuyen 2: \"))\n",
        "        if 0 <= tx2 <= 100:\n",
        "            break\n",
        "        else:\n",
        "            print(\"Yeu cau nhap lai.\\n\")\n",
        "    tong = tx1 + tx2\n",
        "    if tong >= 190:\n",
        "        print(name, tong, \"Xuat sac\")\n",
        "    elif 150 <= tong < 190:\n",
        "        print(name, tong, \"Gioi\")\n",
        "    elif 100 <= tong < 150:\n",
        "        print(name, tong, \"Kha\")\n",
        "    elif tong < 100:\n",
        "        print(name, tong, \"Yeu\")\n"
      ],
      "metadata": {
        "colab": {
          "base_uri": "https://localhost:8080/"
        },
        "id": "6d3KQanKT14W",
        "outputId": "82724ece-dd72-4e91-a37c-78864f23813f"
      },
      "execution_count": 5,
      "outputs": [
        {
          "output_type": "stream",
          "name": "stdout",
          "text": [
            "Nhap so luong hoc sinh: 2\n",
            "Nhap ten: Tien\n",
            "Nhap diem thuong xuyen 1: 50 \n",
            "Nhap diem thuong xuyen 2: 60\n",
            "Tien 110 Kha\n",
            "Nhap ten: Dong\n",
            "Nhap diem thuong xuyen 1: 70\n",
            "Nhap diem thuong xuyen 2: 90\n",
            "Dong 160 Gioi\n"
          ]
        }
      ]
    },
    {
      "cell_type": "markdown",
      "source": [
        "Bài 4:"
      ],
      "metadata": {
        "id": "B08D8R3kk_B4"
      }
    },
    {
      "cell_type": "code",
      "source": [
        "def can_buy(x):\n",
        "    total = 0\n",
        "    i = 1\n",
        "    while total < x:\n",
        "        total += i\n",
        "        i = i * 10 + 1\n",
        "        return total == x\n",
        "\n",
        "x = int(input(\"Nhap x: \"))\n",
        "if can_buy(x):\n",
        "    print(\"YES\")\n",
        "else:\n",
        "    print(\"NO\")\n"
      ],
      "metadata": {
        "id": "rwuWbm0ZlBkG"
      },
      "execution_count": null,
      "outputs": []
    }
  ]
}